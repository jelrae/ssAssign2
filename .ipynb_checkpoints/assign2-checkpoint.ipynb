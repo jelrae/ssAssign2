{
 "cells": [
  {
   "cell_type": "code",
   "execution_count": 2,
   "metadata": {},
   "outputs": [],
   "source": [
    "import simpy as sp\n",
    "import numpy as np\n",
    "import pandas as pd\n",
    "import seaborn as sns\n",
    "\n",
    "RANDOM_SEED = 42\n",
    "NUM_SERVER = 2\n",
    "SERVICETIME = 5\n",
    "T_ARRIVAL = 7\n",
    "SIM_TIME = 30\n",
    "\n",
    "class Server(object):\n",
    "    \n",
    "    def __init__(self, env, num_server, servicetime):\n",
    "        \n",
    "        self.env = env\n",
    "        self.server = simpy.Resource(env, num_server)\n",
    "        self.servicetime = servicetime\n",
    "        \n",
    "    def service(self, customer):\n",
    "        \n",
    "        yield self.env.timeout(SERVICETIME)\n",
    "        \n",
    "def customer(env, name, sv):\n",
    "    \n",
    "    print(\"%s arrives at %.2f.\" %(customer, env.now))\n",
    "    \n",
    "    with cw.machine.request() as request:\n",
    "        \n",
    "        yield request\n",
    "        \n",
    "        print(\"%s enters the server at %.2f.\" % (name, env.now))\n",
    "        \n",
    "        yield env.process(sv.service(name))\n",
    "        \n",
    "        print(\"%s leaves at %.2f.\" %(name, env.now))\n",
    "        \n",
    "def setup(env, num_servers, servicetime, t_arrival):\n",
    "    \n",
    "    server = Server(env, num_servers, servicetime)\n",
    "    \n",
    "    for i in range(4):\n",
    "        \n"
   ]
  },
  {
   "cell_type": "markdown",
   "metadata": {},
   "source": [
    "the link https://simpy.readthedocs.io/en/latest/examples/carwash.html"
   ]
  }
 ],
 "metadata": {
  "kernelspec": {
   "display_name": "Python 3",
   "language": "python",
   "name": "python3"
  },
  "language_info": {
   "codemirror_mode": {
    "name": "ipython",
    "version": 3
   },
   "file_extension": ".py",
   "mimetype": "text/x-python",
   "name": "python",
   "nbconvert_exporter": "python",
   "pygments_lexer": "ipython3",
   "version": "3.6.4"
  }
 },
 "nbformat": 4,
 "nbformat_minor": 2
}
