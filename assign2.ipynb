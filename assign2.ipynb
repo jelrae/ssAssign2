{
 "cells": [
  {
   "cell_type": "code",
   "execution_count": 1,
   "metadata": {},
   "outputs": [],
   "source": [
    "import simpy as sp\n",
    "import numpy as np\n",
    "import pandas as pd\n",
    "import seaborn as sns\n",
    "import random\n",
    "\n",
    "RANDOM_SEED = 42\n",
    "NUM_SERVER = 2 # number of servers in the simulation\n",
    "SERVICETIME = 5 # average? minutes to complete a task\n",
    "T_ARRIVAL = 7 # arrival of a new customer\n",
    "SIM_TIME = 30 # Simulation length in minutes\n",
    "\n",
    "class Server(object):\n",
    "    \n",
    "    def __init__(self, env, num_server, servicetime):\n",
    "        \n",
    "        self.env = env\n",
    "        self.server = sp.Resource(env, num_server)\n",
    "        self.servicetime = servicetime\n",
    "        \n",
    "    def service(self, customer):\n",
    "        # need to add stochasticity to this\n",
    "        \n",
    "        yield self.env.timeout(SERVICETIME)\n",
    "        \n",
    "def customer(env, name, sv):\n",
    "    \n",
    "    print(\"%s arrives at %.2f.\" %(name, env.now))\n",
    "    \n",
    "    with sv.server.request() as request:\n",
    "        \n",
    "        yield request\n",
    "        \n",
    "        print(\"%s enters the server at %.2f.\" % (name, env.now))\n",
    "        \n",
    "        yield env.process(sv.service(name))\n",
    "        \n",
    "        print(\"%s leaves at %.2f.\" %(name, env.now))\n",
    "        \n",
    "def setup(env, num_servers, servicetime, t_arrival):\n",
    "    \n",
    "    server = Server(env, num_servers, servicetime)\n",
    "    \n",
    "    # create 4 customers\n",
    "    for i in range(4):\n",
    "        env.process(customer(env, 'Client %d' % i, server))\n",
    "        \n",
    "    # make more customers while the simulation is running\n",
    "    while True:\n",
    "        yield env.timeout(random.randint(t_arrival - 2, t_arrival + 2))\n",
    "        i += 1 \n",
    "        env.process(customer(env, 'Client %d' % i, server))\n"
   ]
  },
  {
   "cell_type": "code",
   "execution_count": 2,
   "metadata": {},
   "outputs": [
    {
     "name": "stdout",
     "output_type": "stream",
     "text": [
      "Server is up\n",
      "Client 0 arrives at 0.00.\n",
      "Client 1 arrives at 0.00.\n",
      "Client 2 arrives at 0.00.\n",
      "Client 3 arrives at 0.00.\n",
      "Client 0 enters the server at 0.00.\n",
      "Client 1 enters the server at 0.00.\n",
      "Client 4 arrives at 5.00.\n",
      "Client 0 leaves at 5.00.\n",
      "Client 1 leaves at 5.00.\n",
      "Client 2 enters the server at 5.00.\n",
      "Client 3 enters the server at 5.00.\n",
      "Client 5 arrives at 10.00.\n",
      "Client 2 leaves at 10.00.\n",
      "Client 3 leaves at 10.00.\n",
      "Client 4 enters the server at 10.00.\n",
      "Client 5 enters the server at 10.00.\n",
      "Client 4 leaves at 15.00.\n",
      "Client 5 leaves at 15.00.\n",
      "Client 6 arrives at 17.00.\n",
      "Client 6 enters the server at 17.00.\n",
      "Client 6 leaves at 22.00.\n",
      "Client 7 arrives at 23.00.\n",
      "Client 7 enters the server at 23.00.\n",
      "Client 7 leaves at 28.00.\n",
      "Client 8 arrives at 29.00.\n",
      "Client 8 enters the server at 29.00.\n"
     ]
    }
   ],
   "source": [
    "print('Server is up')\n",
    "random.seed(RANDOM_SEED)\n",
    "\n",
    "# create the envioroment and start the setup process\n",
    "\n",
    "env = sp.Environment()\n",
    "env.process(setup(env, NUM_SERVER, SERVICETIME, T_ARRIVAL))\n",
    "\n",
    "env.run(until=SIM_TIME)\n",
    "\n",
    "#This isnt right and needs to be checked"
   ]
  },
  {
   "cell_type": "markdown",
   "metadata": {},
   "source": [
    "the link https://simpy.readthedocs.io/en/latest/examples/carwash.html"
   ]
  }
 ],
 "metadata": {
  "kernelspec": {
   "display_name": "Python 3",
   "language": "python",
   "name": "python3"
  },
  "language_info": {
   "codemirror_mode": {
    "name": "ipython",
    "version": 3
   },
   "file_extension": ".py",
   "mimetype": "text/x-python",
   "name": "python",
   "nbconvert_exporter": "python",
   "pygments_lexer": "ipython3",
   "version": "3.6.6"
  }
 },
 "nbformat": 4,
 "nbformat_minor": 2
}
